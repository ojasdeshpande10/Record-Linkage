{
 "cells": [
  {
   "cell_type": "code",
   "execution_count": null,
   "metadata": {},
   "outputs": [],
   "source": [
    "pip install texthero==1.0.5"
   ]
  },
  {
   "cell_type": "code",
   "execution_count": 2,
   "metadata": {},
   "outputs": [
    {
     "name": "stderr",
     "output_type": "stream",
     "text": [
      "/home/ojas_d/anaconda3/lib/python3.7/site-packages/texthero/preprocessing.py:46: FutureWarning: The default value of regex will change from True to False in a future version.\n",
      "  return input.str.replace(r\"^\\d+\\s|\\s\\d+\\s|\\s\\d+$\", \" \")\n"
     ]
    }
   ],
   "source": [
    "import os.path\n",
    "import pandas as pd\n",
    "from pathlib import Path\n",
    "import csv\n",
    "from csv import writer\n",
    "import texthero as hero\n",
    "from texthero import preprocessing\n",
    "def extractCSV(filepath):\n",
    "    \n",
    "    \n",
    "    #Preprocessing using texthero package.\n",
    "    df=pd.read_csv(filepath)\n",
    "    custom_pipeline = [preprocessing.fillna,\n",
    "                       preprocessing.lowercase,\n",
    "                       preprocessing.remove_punctuation,\n",
    "                       preprocessing.remove_diacritics,\n",
    "                       preprocessing.remove_digits,\n",
    "                       preprocessing.remove_whitespace]\n",
    "    df['clean_pet_name']=hero.clean(df['pet_name'],custom_pipeline)\n",
    "    df['clean_res_name']=hero.clean(df['res_name'],custom_pipeline)\n",
    "    Pet_list=[]\n",
    "    Pet_list=df['clean_pet_name'].tolist()\n",
    "    Cino_list=df['cino'].tolist()\n",
    "    Res_list=df['clean_res_name'].tolist()\n",
    "    length= len(Pet_list)\n",
    "    #Removing repeated words from company names which might hinder clustering\n",
    "    stopwords1=[\"PVT\",\"M\",\"S\",\"ORS\",\"ANR\",\"i\", \"me\", \"my\", \"myself\", \"we\", \"our\", \"ours\", \"ourselves\", \"you\", \"your\", \"yours\", \"yourself\", \"yourselves\", \"he\", \"him\", \"his\", \"himself\", \"she\", \"her\", \"hers\", \"herself\", \"it\", \"its\", \"itself\", \"they\", \"them\", \"their\", \"theirs\", \"themselves\", \"what\", \"which\", \"who\", \"the\" ,\"whom\", \"this\", \"that\", \"these\", \"those\", \"am\", \"is\", \"are\", \"was\", \"were\", \"be\", \"been\", \"being\", \"have\", \"has\", \"had\", \"having\", \"do\", \"does\", \"did\", \"doing\", \"a\", \"an\", \"the\", \"and\", \"but\", \"if\", \"or\", \"because\", \"as\", \"until\", \"while\", \"of\", \"at\", \"by\", \"for\", \"with\", \"about\", \"against\", \"between\", \"into\", \"through\", \"during\", \"before\", \"after\", \"above\", \"below\", \"to\", \"from\", \"up\", \"down\", \"in\", \"out\", \"on\", \"off\", \"over\", \"under\", \"again\", \"further\", \"then\", \"once\", \"here\", \"there\", \"when\", \"where\", \"why\", \"how\", \"all\", \"any\", \"both\", \"each\", \"few\", \"more\", \"most\", \"other\", \"some\", \"such\", \"no\", \"nor\", \"not\", \"only\", \"own\", \"same\", \"so\", \"than\", \"too\", \"very\", \"t\", \"can\", \"will\", \"just\", \"don\", \"should\", \"now\",\"M/S\",\"ANR\",\"PRIVATE\", \"PRIVATELIMITED\", \"PRIVATELIMITED.\", \"PRIVATELTD\", \"LIMITED\", \"LIMITED(OPC)\", \"LIMITED,\", \"LIMITED.\", \"LIMTED\", \"LIMTIED\",\"LTD\", \"LTD,\", \"LTD.\", \"LTD.,\",\"PVT.\", \"PVT.LTD\", \"PVT.LTD.\", \"PVTLTD\", \"PVTLTD.\"]\n",
    "    stopwords = [x.lower() for x in stopwords1]\n",
    "    #print(stopwords)\n",
    "    Firm_list=[]\n",
    "    #Firm_list2=[]\n",
    "    #Words to detect company names from the dataset \n",
    "    my_file = open(\"companies_keyword_list.txt\", \"r\")\n",
    "    firm_names=my_file.read()\n",
    "    firm_names= [x.lower() for x in firm_names1]   \n",
    "    \n",
    "    \n",
    "    #Method \n",
    "    \n",
    "    for i in range(length):\n",
    "        \n",
    "    \n",
    "        Firm_pet_list=[]\n",
    "        Firm_res_list=[]\n",
    "        if type(Pet_list[i])==str:\n",
    "            query1=Pet_list[i].split()\n",
    "        if type(Res_list[i])==str:\n",
    "            query2=Res_list[i].split()\n",
    "            \n",
    "          \n",
    "        if any(ext in query1 for ext in firm_names):\n",
    "            \n",
    "            #Firm_list2.append(Pet_list[i])\n",
    "            query=(Pet_list[i]).split()\n",
    "            resultwords  = [word for word in query if word not in stopwords]\n",
    "            result = ' '.join(resultwords)\n",
    "            Firm_pet_list.append(Cino_list[i])\n",
    "            Firm_pet_list.append(result)\n",
    "            Firm_list.append(Firm_pet_list)\n",
    "      \n",
    "        if any(ext in query2 for ext in firm_names):\n",
    "            \n",
    "            \n",
    "            #Firm_list2.append(Res_list[i])\n",
    "            query=(Res_list[i]).split()\n",
    "            resultwords  = [word for word in query if word not in stopwords]\n",
    "            result = ' '.join(resultwords)\n",
    "            Firm_res_list.append(Cino_list[i])\n",
    "            Firm_res_list.append(result)\n",
    "            Firm_list.append(Firm_res_list) \n",
    "    \n",
    "  \n",
    "    \n",
    "    \n",
    "        \n",
    "    \n",
    "    return Firm_list\n",
    "dir= \"/home/ojas_d/WorldBank/2018\"\n",
    "c=1\n",
    "List=[]\n",
    "List1=[]\n",
    "fields=['CINO','Firm_Name'] \n",
    "dataf=pd.DataFrame(List,columns=fields)\n",
    "for filename in os.listdir(dir):  \n",
    "    #if c==2:\n",
    "    #break;\n",
    "    filepath=os.path.join(dir, filename)\n",
    "    #print(filepath)\n",
    "    #myfile=Path('/home/ojas_d/WorldBank/2018/2018_case_data_39.csv')\n",
    "    \n",
    "    List=extractCSV(filepath)\n",
    "    \n",
    "    dataf = dataf.append(pd.DataFrame(List,columns=fields))\n",
    "    #c=c+1  \n",
    "    \n"
   ]
  },
  {
   "cell_type": "code",
   "execution_count": 3,
   "metadata": {},
   "outputs": [
    {
     "data": {
      "text/plain": [
       "(110478, 2)"
      ]
     },
     "execution_count": 3,
     "metadata": {},
     "output_type": "execute_result"
    }
   ],
   "source": [
    "dataf.shape"
   ]
  },
  {
   "cell_type": "code",
   "execution_count": 4,
   "metadata": {},
   "outputs": [],
   "source": [
    "\n",
    "from sklearn.cluster import MiniBatchKMeans\n",
    "from sklearn.feature_extraction.text import TfidfVectorizer\n",
    "from sklearn.decomposition import PCA\n",
    "from sklearn.manifold import TSNE\n",
    "\n",
    "tfidf = TfidfVectorizer()\n",
    "text=tfidf.fit_transform(dataf['Firm_Name'])\n",
    "words = tfidf.get_feature_names()\n"
   ]
  },
  {
   "cell_type": "code",
   "execution_count": 5,
   "metadata": {},
   "outputs": [
    {
     "data": {
      "image/png": "[encoded data removed]",
      "text/plain": [
       "<Figure size 432x288 with 1 Axes>"
      ]
     },
     "metadata": {
      "needs_background": "light"
     },
     "output_type": "display_data"
    }
   ],
   "source": [
    "import matplotlib.pyplot as plt\n",
    "from sklearn.cluster import KMeans\n",
    "wcss = []\n",
    "for i in range(10,30):\n",
    "    kmeans = KMeans(n_clusters=i,init='k-means++',max_iter=300,n_init=10,random_state=0)\n",
    "    kmeans.fit(text)\n",
    "    wcss.append(kmeans.inertia_)\n",
    "plt.plot(range(10,30),wcss)\n",
    "plt.title('The Elbow Method')\n",
    "plt.xlabel('Number of clusters')\n",
    "plt.ylabel('WCSS')\n",
    "plt.savefig('elbow.png')\n",
    "plt.show()"
   ]
  },
  {
   "cell_type": "code",
   "execution_count": 7,
   "metadata": {},
   "outputs": [
    {
     "name": "stdout",
     "output_type": "stream",
     "text": [
      "0 : hdfc, bank, gbj, gbe, gbans, gazipur, gaylord, gayatri, gayan, gaurding, gaya, gay, gawar, gavya, gautam, gauriya, gauri, zyxel, gaurdian, gc, gaurav, gaurang, gaur, gaukaran, gauges\n",
      "1 : financial, services, toyota, hdb, india, bmw, ser, janalakshmi, tata, capital, ind, lakshmi, jana, orix, securities, leasing, usha, service, daimler, karvy, anmol, finance, atd, ptc, moneywise\n",
      "2 : pooja, finlease, singh, finance, ltd9899784264, industries, gastric, gauriya, gbj, gbe, gbans, gazipur, gaylord, gayatri, gayan, gasoline, gaya, gay, gawar, gavya, gautam, gauri, gate, gaurding, gaurdian\n",
      "3 : capital, first, trust, intec, reliance, home, finance, tata, financial, solution, india, corp, securities, electronics, finanace, lt, infrastructure, alias, holdings, power, future, gawar, gayatri, gavya, gay\n",
      "4 : home, credit, india, finance, finances, fin, reliance, inida, opvt, fiance, ex, central, indian, managing, icici, director, bank, gaya, gayan, gayatri, gay, gaylord, gazipur, gbans, gateway\n",
      "5 : hero, fincorp, gaurdian, gauri, gauriya, gautam, gavya, gawar, gay, gaya, gayan, gayatri, gaylord, gazipur, gbans, gbe, gbj, gaurding, gaurav, gasket, gaurang, gaur, gaukaran, gauges, gauge\n",
      "6 : distribution, tata, delhi, power, distributions, popwer, limitd, limitedtata, known, north, zyxel, gaya, gautam, gavya, gawar, gay, gayan, gauri, gayatri, gaylord, gazipur, gbans, gauriya, gaurav, gaurding\n",
      "7 : icici, bank, ar, manager, ans, commercial, state, gay, gauri, gauriya, gautam, gavya, gbe, gawar, gaya, gbans, gayan, gaurding, gayatri, gaylord, gazipur, zyxel, gaurav, gaurdian, gbk\n",
      "8 : bussan, auto, finance, india, autho, gaylord, gawar, gay, gaya, gayan, gayatri, zyxel, gazipur, gautam, gbans, gbe, gbj, gbk, gavya, gauriya, gca, gauge, gastric, gate, gatevida\n",
      "9 : union, india, dcb, bank, central, barwala, alipur, sanoth, ghewra, ans, kakrola, others, pansali, bharthal, bawana, karala, bhorgarh, another, masudabad, bamnoli, sanooth, narela, perhladpur, bijwasan, lac\n",
      "10 : finance, bajaj, city, commercial, small, reliance, union, housing, company, shriram, jana, investment, shri, ram, motors, cholamandlam, tata, bank, cholamandalam, info, line, au, sundaram, motor, dhara\n",
      "11 : bses, power, rajdhani, yamuna, manager, ans, application, others, ypl, general, ms, business, rs, nd, new, delhi, gaur, gaurang, gayatri, gate, gayan, gaya, gay, gatevida, gawar\n",
      "12 : mahindra, kotak, bank, prime, mahindera, financial, service, services, finance, kushagrashrivastav, band, etc, ms, fin, ser, gaya, gayan, gay, gawar, gavya, gayatri, gautam, gauriya, gaylord, zyxel\n",
      "13 : east, municipal, corporation, delhi, commissioner, municpal, muncipal, etc, commisioner, corp, management, others, school, gautam, gay, gavya, gawar, gauri, gaya, gayan, gayatri, gaylord, gauriya, gaurav, gaurding\n",
      "14 : punjab, national, sind, bank, kashmir, sindh, finance, sidh, communications, mqanager, manager, store, others, general, india, gauriya, gavya, gauri, gawar, gaurding, gay, gaya, gayan, gayatri, gautam\n",
      "15 : indusind, bank, ms, zyxel, gayan, gautam, gavya, gawar, gay, gaya, gayatri, gauri, gaylord, gazipur, gbans, gbe, gbj, gbk, gauriya, gaurdian, gaurding, gca, gaurav, gaurang, gaur\n",
      "16 : india, services, industries, bank, international, company, traders, meenakshi, delhi, mehta, travels, fincap, logistics, developers, solutions, canara, school, board, singh, infrastructure, technologies, lord, electronics, mehra, corporation\n",
      "17 : state, india, bank, trading, corporation, chairman, civil, canara, others, manager, general, gati, gauri, gasoline, gazipur, gaylord, gayatri, gayan, gaya, gay, gawar, gavya, gassy, gautam, gauriya\n",
      "18 : foods, agro, chemicals, ars, agency, ingredients, products, berg, ice, industries, agencies, best, balaji, kishore, india, shree, meem, director, aggarwal, fieldfresh, milk, frozen, sales, shri, usher\n",
      "19 : enterprises, shree, sahyog, jai, balaji, sai, vinayak, regd, krishna, nav, om, wipro, prem, sri, bharat, shiva, shri, earthtech, durga, shubham, raj, laxmi, sanwalee, geeta, maa\n",
      "20 : rbl, bank, india, zyxel, gautam, gavya, gawar, gay, gaya, gayan, gayatri, gauri, gaylord, gazipur, gbans, gbe, gbj, gbk, gauriya, gaurding, gca, gaurdian, gaurav, gaurang, gaur\n",
      "21 : axis, bank, td, manager, gayan, gautam, gavya, gawar, gay, gaya, gaylord, gayatri, gauri, gazipur, gbans, gbe, gbj, gbk, gauriya, zyxel, gaurding, gca, gaurdian, gaurav, gaurang\n",
      "22 : corporation, municipal, delhi, north, bank, south, muncipal, transport, commissioner, power, sales, corp, th, deputy, municpal, sdmc, municiapal, another, others, dy, financial, northdelhi, refrigeration, sourth, mpl\n",
      "23 : meena, devi, kumar, kumari, singh, sharma, lal, ravi, mukesh, gupta, smt, ram, rani, chand, verma, begum, shiv, prakash, vijay, manoj, naresh, veena, rajesh, ankit, dar\n",
      "24 : infoline, finance, india, lt, housing, indian, gay, gautam, gavya, gawar, zyxel, gaya, gauriya, gayatri, gaylord, gazipur, gbans, gbe, gayan, gaurding, gauri, gati, gasoline, gassy, gastric\n",
      "25 : tvs, credit, services, servies, logistics, service, gauri, gaurang, gaurav, gaurdian, gaurding, gautam, gauriya, gaukaran, gavya, gawar, gay, gaya, gaur, zyxel, gauges, gayan, gau, gati, gateway\n",
      "26 : co, investment, cholamandalam, finance, insurance, operative, society, general, transport, sterling, deposit, safe, motor, trading, shriram, kangra, national, leasing, thrift, rajhans, op, urban, delhi, credit, assurance\n",
      "27 : true, link, finance, gayan, gautam, gavya, gawar, gay, gaya, zyxel, gauri, gayatri, gaylord, gazipur, gbans, gbe, gauriya, gaurding, gbk, gati, gasoline, gassy, gastric, gate, gatevida\n",
      "28 : cassettes, super, industries, industires, indusries, industiries, indsutries, industrie, industriesw, industtries, industreis, privted, gbe, gauri, gauriya, gautam, gavya, gawar, gaya, gay, gbans, gaurdian, gayan, gayatri, gaylord\n"
     ]
    }
   ],
   "source": [
    "import matplotlib.pyplot as plt\n",
    "from sklearn.cluster import KMeans\n",
    "kmeans = KMeans(n_clusters = 29, n_init = 20,max_iter=300, n_jobs = 1) # n_init(number of iterations for clsutering) n_jobs(number of cpu cores to use)\n",
    "kmeans.fit(text)\n",
    "\n",
    "common_words = kmeans.cluster_centers_.argsort()[:,-1:-26:-1]\n",
    "for num, centroid in enumerate(common_words):\n",
    "    print(str(num) + ' : ' + ', '.join(words[word] for word in centroid))"
   ]
  },
  {
   "cell_type": "code",
   "execution_count": 6,
   "metadata": {},
   "outputs": [
    {
     "name": "stdout",
     "output_type": "stream",
     "text": [
      "Silhoutte score for the kth clustster 10is 0.1874349741333243\n",
      "Silhoutte score for the kth clustster 11is 0.19705103990313216\n",
      "Silhoutte score for the kth clustster 12is 0.22736730242495076\n",
      "Silhoutte score for the kth clustster 13is 0.22847990876918595\n",
      "Silhoutte score for the kth clustster 14is 0.2241395828009007\n",
      "Silhoutte score for the kth clustster 15is 0.25799224151595573\n",
      "Silhoutte score for the kth clustster 16is 0.2621124381844588\n",
      "Silhoutte score for the kth clustster 17is 0.263951092126719\n",
      "Silhoutte score for the kth clustster 18is 0.27410141769788543\n",
      "Silhoutte score for the kth clustster 19is 0.28450760077273496\n",
      "Silhoutte score for the kth clustster 20is 0.28608720856932823\n",
      "Silhoutte score for the kth clustster 21is 0.29403229495347954\n",
      "Silhoutte score for the kth clustster 22is 0.3043568373644348\n",
      "Silhoutte score for the kth clustster 23is 0.30681932014359237\n",
      "Silhoutte score for the kth clustster 24is 0.3088180282769465\n",
      "Silhoutte score for the kth clustster 25is 0.318010849619778\n",
      "Silhoutte score for the kth clustster 26is 0.32586015645919086\n",
      "Silhoutte score for the kth clustster 27is 0.3358021631906239\n",
      "Silhoutte score for the kth clustster 28is 0.33618175878376916\n",
      "Silhoutte score for the kth clustster 29is 0.33906071837986546\n"
     ]
    }
   ],
   "source": [
    "import sklearn.metrics as metrics\n",
    "\n",
    "for i in range(20,3):\n",
    "    labels = KMeans(n_clusters=i,init='k-means++',max_iter=300,n_init=10,random_state=200).fit(text).labels_\n",
    "    print(\"Silhoutte score for the kth clustster \"+str(i)+\"is \" + str(metrics.silhouette_score(text,labels,sample_size=1000,random_state=200)))\n",
    "    "
   ]
  },
  {
   "cell_type": "code",
   "execution_count": null,
   "metadata": {},
   "outputs": [],
   "source": [
    "\n",
    "tf_idf_norm = normalize(text)\n",
    "tf_idf_array = tf_idf_norm.toarray()\n",
    "sklearn_pca = PCA(n_components = 2)\n",
    "Y_sklearn = sklearn_pca.fit_transform(tf_idf_array)\n",
    "test_e = KMeans(n_clusters = 8, n_init = 20, n_jobs = 1)\n",
    "fitted = test_e.fit(Y_sklearn)\n",
    "predicted_values = test_e.predict(Y_sklearn)\n",
    "\n",
    "plt.scatter(Y_sklearn[:, 0], Y_sklearn[:, 1], c=predicted_values, s=50, cmap='viridis')\n",
    "\n"
   ]
  },
  {
   "cell_type": "code",
   "execution_count": null,
   "metadata": {},
   "outputs": [],
   "source": []
  },
  {
   "cell_type": "code",
   "execution_count": null,
   "metadata": {},
   "outputs": [],
   "source": []
  }
 ],
 "metadata": {
  "kernelspec": {
   "display_name": "Python 3",
   "language": "python",
   "name": "python3"
  },
  "language_info": {
   "codemirror_mode": {
    "name": "ipython",
    "version": 3
   },
   "file_extension": ".py",
   "mimetype": "text/x-python",
   "name": "python",
   "nbconvert_exporter": "python",
   "pygments_lexer": "ipython3",
   "version": "3.7.6"
  }
 },
 "nbformat": 4,
 "nbformat_minor": 4
}
